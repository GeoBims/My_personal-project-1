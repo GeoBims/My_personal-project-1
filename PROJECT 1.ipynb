{
 "cells": [
  {
   "cell_type": "markdown",
   "id": "c85a9f77",
   "metadata": {},
   "source": [
    "### PROJECT 1 (CONDITIONAL LOGIC USING IF, ELSE AND ELIF STATEMENTS)"
   ]
  },
  {
   "cell_type": "markdown",
   "id": "ca58691c",
   "metadata": {},
   "source": [
    "Write a program that can be used to assess different candidates and select the qualified ones based on certain criteria for a Driving Job."
   ]
  },
  {
   "cell_type": "markdown",
   "id": "f1537b21",
   "metadata": {},
   "source": [
    "### Candidate Information page"
   ]
  },
  {
   "cell_type": "code",
   "execution_count": 1,
   "id": "36ba34ad",
   "metadata": {},
   "outputs": [
    {
     "name": "stdout",
     "output_type": "stream",
     "text": [
      "Enter Username: Tammy123\n"
     ]
    }
   ],
   "source": [
    "Username = input (\"Enter Username: \")"
   ]
  },
  {
   "cell_type": "code",
   "execution_count": 2,
   "id": "f1bbe58f",
   "metadata": {},
   "outputs": [
    {
     "name": "stdout",
     "output_type": "stream",
     "text": [
      "Enter Password: ········\n",
      "\n",
      "You can now log in\n"
     ]
    }
   ],
   "source": [
    "import getpass\n",
    "\n",
    "Password = getpass.getpass (\"Enter Password: \")\n",
    "if Username and Password:\n",
    "    print (\"\\nYou can now log in\")\n",
    "else:\n",
    "    print (\"\\nUsername or Password is incorrect\")"
   ]
  },
  {
   "cell_type": "code",
   "execution_count": 3,
   "id": "9728cd67",
   "metadata": {},
   "outputs": [
    {
     "name": "stdout",
     "output_type": "stream",
     "text": [
      "Enter Full names: Tammy Jones\n"
     ]
    }
   ],
   "source": [
    "Candidate = input (\"Enter Full names: \")"
   ]
  },
  {
   "cell_type": "code",
   "execution_count": 4,
   "id": "6389a0af",
   "metadata": {},
   "outputs": [
    {
     "name": "stdout",
     "output_type": "stream",
     "text": [
      "Enter age: 24\n"
     ]
    }
   ],
   "source": [
    "Age = int (input (\"Enter age: \"))"
   ]
  },
  {
   "cell_type": "code",
   "execution_count": 5,
   "id": "3911c4c5",
   "metadata": {},
   "outputs": [
    {
     "name": "stdout",
     "output_type": "stream",
     "text": [
      "Do you have a Driver's License?\n",
      "Enter Yes/No:  Yes\n"
     ]
    }
   ],
   "source": [
    "License = str (input (\"Do you have a Driver\\'s License?\\nEnter Yes/No:  \"))"
   ]
  },
  {
   "cell_type": "code",
   "execution_count": 6,
   "id": "44da833d",
   "metadata": {},
   "outputs": [
    {
     "name": "stdout",
     "output_type": "stream",
     "text": [
      "Are you fit to drive?\n",
      "Enter Yes/No: Yes\n"
     ]
    }
   ],
   "source": [
    "Fitness= str (input (\"Are you fit to drive?\\nEnter Yes/No: \"))"
   ]
  },
  {
   "cell_type": "code",
   "execution_count": 7,
   "id": "19b2f0f3",
   "metadata": {},
   "outputs": [
    {
     "name": "stdout",
     "output_type": "stream",
     "text": [
      "If you are ready to submit your application, Enter \"Yes\": Yes\n",
      "\n",
      "\n",
      "Application Submitted\n"
     ]
    }
   ],
   "source": [
    "Submit = input (\"If you are ready to submit your application, Enter \\\"Yes\\\": \")\n",
    "if Candidate and Age and License and Fitness and Submit:\n",
    "    print (\"\\n\\nApplication Submitted\")\n",
    "\n",
    "else:\n",
    "    print (\"\\n\\n\\nComplete your Application\")"
   ]
  },
  {
   "cell_type": "markdown",
   "id": "ce75f822",
   "metadata": {},
   "source": [
    "### Interviewer's End"
   ]
  },
  {
   "cell_type": "code",
   "execution_count": 8,
   "id": "3e8b94e8",
   "metadata": {},
   "outputs": [
    {
     "name": "stdout",
     "output_type": "stream",
     "text": [
      "Yes/No: Yes\n"
     ]
    }
   ],
   "source": [
    "Does_the_candidate_have_a_License= str (input (\"Yes/No: \")) "
   ]
  },
  {
   "cell_type": "code",
   "execution_count": 9,
   "id": "cb676653",
   "metadata": {},
   "outputs": [
    {
     "name": "stdout",
     "output_type": "stream",
     "text": [
      "See results below\n"
     ]
    }
   ],
   "source": [
    "if Does_the_candidate_have_a_License:\n",
    "    print (\"See results below\")\n",
    "else:\n",
    "    print (\"Enter the correct option above\")"
   ]
  },
  {
   "cell_type": "code",
   "execution_count": 10,
   "id": "57675416",
   "metadata": {},
   "outputs": [
    {
     "name": "stdout",
     "output_type": "stream",
     "text": [
      "Tammy Jones is 24 years old.\n",
      "Tammy Jones has a Driver's license.\n",
      "Tammy Jones is fit enough.\n",
      "Tammy Jones meets all the requirements.\n",
      "\n",
      "Tammy Jones is qualified\n",
      "\n",
      "\n",
      "Candidate Assessed\n"
     ]
    }
   ],
   "source": [
    "minimum_age = 20\n",
    "if Age >= minimum_age:\n",
    "    print (f\"{Candidate} is {Age} years old.\")\n",
    "    if License == \"Yes\":  \n",
    "        print (f\"{Candidate} has a Driver\\'s license.\")\n",
    "        if Fitness == \"Yes\":\n",
    "            print (f\"{Candidate} is fit enough.\")\n",
    "            print (f\"{Candidate} meets all the requirements.\")\n",
    "        print (f\"\\n{Candidate} is qualified\")\n",
    "    elif Does_the_candidate_have_a_License == \"No\":\n",
    "        print (f\"{Candidate} does not have a license, but can be put on the waiting list even if he is not fit.\")\n",
    "    \n",
    "else:\n",
    "    print (f\"{Candidate} is *{Age}* years old.\")\n",
    "    print (f\"\\n{Candidate} is not qualified.\")\n",
    "\n",
    "print (\"\\n\\nCandidate Assessed\")"
   ]
  },
  {
   "cell_type": "code",
   "execution_count": null,
   "id": "53a55f33",
   "metadata": {},
   "outputs": [],
   "source": []
  }
 ],
 "metadata": {
  "kernelspec": {
   "display_name": "Python 3",
   "language": "python",
   "name": "python3"
  },
  "language_info": {
   "codemirror_mode": {
    "name": "ipython",
    "version": 3
   },
   "file_extension": ".py",
   "mimetype": "text/x-python",
   "name": "python",
   "nbconvert_exporter": "python",
   "pygments_lexer": "ipython3",
   "version": "3.8.8"
  }
 },
 "nbformat": 4,
 "nbformat_minor": 5
}
